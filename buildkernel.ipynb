{
 "cells": [
  {
   "cell_type": "markdown",
   "id": "9088c151-64b1-4a15-a19b-6a8ae389115c",
   "metadata": {},
   "source": [
    "# Buildkernel for my purpose "
   ]
  },
  {
   "cell_type": "code",
   "execution_count": 11,
   "id": "744c5ec4-0ee7-4472-b08a-31e463a0f782",
   "metadata": {},
   "outputs": [],
   "source": [
    "using PackageCompiler\n",
    "using IJulia"
   ]
  },
  {
   "cell_type": "code",
   "execution_count": 1,
   "id": "8989400e-d818-4e09-945a-d6a27bc6eb47",
   "metadata": {},
   "outputs": [
    {
     "data": {
      "text/plain": [
       "\"/home/toshiaki/.julia/ijulia.so\""
      ]
     },
     "execution_count": 1,
     "metadata": {},
     "output_type": "execute_result"
    }
   ],
   "source": [
    "precompile_statements_file=[\n",
    "    joinpath(expanduser(\"~/.julia\"), \"ijuliacompile.jl\")\n",
    "]\n",
    "\n",
    "\n",
    "sysimage_path=joinpath(\n",
    "    expanduser(\"~/.julia\"),\n",
    "    \"ijulia.so\", \n",
    "    # extension should be \".dylib\" for Mac, \".so\" for linux ,\n",
    ")"
   ]
  },
  {
   "cell_type": "code",
   "execution_count": 8,
   "id": "205c71b7-4652-46f2-9227-034355ad533e",
   "metadata": {},
   "outputs": [
    {
     "data": {
      "text/plain": [
       "10-element Vector{Symbol}:\n",
       " :IJulia\n",
       " :BlackBoxOptim\n",
       " :CategoricalArrays\n",
       " :DataFrames\n",
       " :DifferentialEquations\n",
       " :Plots\n",
       " :Parameters\n",
       " :Pipe\n",
       " :StatsPlots\n",
       " :StaticArrays"
      ]
     },
     "execution_count": 8,
     "metadata": {},
     "output_type": "execute_result"
    }
   ],
   "source": [
    "packages = [\n",
    "    :IJulia,\n",
    "    :BlackBoxOptim,\n",
    "    :CategoricalArrays,\n",
    "    :DataFrames,\n",
    "    :DifferentialEquations,\n",
    "    :Plots,\n",
    "    :Parameters,\n",
    "    :Pipe,\n",
    "    :StatsPlots,\n",
    "    :StaticArrays,\n",
    "]"
   ]
  },
  {
   "cell_type": "code",
   "execution_count": 10,
   "id": "a4fa7a4f-2e19-4bfc-a679-44c9ff97b7d4",
   "metadata": {},
   "outputs": [
    {
     "name": "stderr",
     "output_type": "stream",
     "text": [
      "┌ Info: PackageCompiler: creating system image object file, this might take a while...\n",
      "└ @ PackageCompiler /home/toshiaki/.julia/packages/PackageCompiler/ztq60/src/PackageCompiler.jl:309\n"
     ]
    },
    {
     "name": "stdout",
     "output_type": "stream",
     "text": [
      "Hello\n"
     ]
    }
   ],
   "source": [
    "PackageCompiler.create_sysimage(\n",
    "    packages,\n",
    "    precompile_statements_file=precompile_statements_file,\n",
    "    sysimage_path=sysimage_path,\n",
    "    # extension should be \".dylib\" for Mac, \".so\" for linux ,\n",
    "    # \".dll\" for windows,\n",
    ")"
   ]
  },
  {
   "cell_type": "code",
   "execution_count": 12,
   "id": "bc0ff201-b8bf-4fc7-bda7-29e1c3e2b8bf",
   "metadata": {},
   "outputs": [
    {
     "name": "stderr",
     "output_type": "stream",
     "text": [
      "┌ Info: Installing Julia precompile kernelspec in /home/toshiaki/.local/share/jupyter/kernels/julia-precompile-1.6\n",
      "└ @ IJulia /home/toshiaki/.julia/packages/IJulia/e8kqU/deps/kspec.jl:94\n"
     ]
    },
    {
     "data": {
      "text/plain": [
       "\"/home/toshiaki/.local/share/jupyter/kernels/julia-precompile-1.6\""
      ]
     },
     "execution_count": 12,
     "metadata": {},
     "output_type": "execute_result"
    }
   ],
   "source": [
    "option=\"-J\"*sysimage_path\n",
    "installkernel(\"Julia precompile\",option)"
   ]
  },
  {
   "cell_type": "markdown",
   "id": "7d615e1d-62ad-4406-9fa2-e364e31ffeb7",
   "metadata": {},
   "source": [
    "### After selecting Julia precompile kernel, you can use fast \"using\" "
   ]
  },
  {
   "cell_type": "code",
   "execution_count": 1,
   "id": "9ba02619-19b6-4716-8b76-a8eb24862ea8",
   "metadata": {},
   "outputs": [
    {
     "name": "stdout",
     "output_type": "stream",
     "text": [
      "  0.000615 seconds (1.91 k allocations: 149.859 KiB, 481.35% compilation time)\n"
     ]
    },
    {
     "name": "stderr",
     "output_type": "stream",
     "text": [
      "WARNING: using BlackBoxOptim.Parameters in module Main conflicts with an existing identifier.\n"
     ]
    }
   ],
   "source": [
    "@time begin\n",
    "    using Pkg\n",
    "    using BlackBoxOptim\n",
    "    using CategoricalArrays\n",
    "    using DataFrames\n",
    "    using DifferentialEquations\n",
    "    using Plots\n",
    "    using Parameters\n",
    "    using Pipe\n",
    "    using StatsPlots\n",
    "    using StaticArrays\n",
    "end"
   ]
  },
  {
   "cell_type": "code",
   "execution_count": 7,
   "id": "e49c4bfa-0b64-4a13-8ad8-7e6a2a77ae98",
   "metadata": {},
   "outputs": [],
   "source": []
  }
 ],
 "metadata": {
  "kernelspec": {
   "display_name": "Julia precompile 1.6.1",
   "language": "julia",
   "name": "julia-precompile-1.6"
  },
  "language_info": {
   "file_extension": ".jl",
   "mimetype": "application/julia",
   "name": "julia",
   "version": "1.6.1"
  }
 },
 "nbformat": 4,
 "nbformat_minor": 5
}
